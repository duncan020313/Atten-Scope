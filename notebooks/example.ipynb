{
 "cells": [
  {
   "cell_type": "code",
   "execution_count": 1,
   "metadata": {},
   "outputs": [
    {
     "name": "stderr",
     "output_type": "stream",
     "text": [
      "/home/duncan/anaconda3/envs/Synstiller/lib/python3.10/site-packages/tqdm/auto.py:21: TqdmWarning: IProgress not found. Please update jupyter and ipywidgets. See https://ipywidgets.readthedocs.io/en/stable/user_install.html\n",
      "  from .autonotebook import tqdm as notebook_tqdm\n"
     ]
    }
   ],
   "source": [
    "from transformer_lens import HookedTransformer, ActivationCache\n",
    "from transformers import AutoTokenizer, AutoModelForCausalLM\n",
    "import torch as t\n",
    "from AttenScope import AttentionPostprocessing, TensorToHeatmap\n",
    "import numpy\n",
    "\n",
    "device = t.device(\"cuda:0\" if t.cuda.is_available() else \"cpu\")"
   ]
  },
  {
   "cell_type": "code",
   "execution_count": 2,
   "metadata": {},
   "outputs": [
    {
     "name": "stderr",
     "output_type": "stream",
     "text": [
      "/home/duncan/anaconda3/envs/Synstiller/lib/python3.10/site-packages/huggingface_hub/file_download.py:1132: FutureWarning: `resume_download` is deprecated and will be removed in version 1.0.0. Downloads always resume when possible. If you want to force a new download, use `force_download=True`.\n",
      "  warnings.warn(\n",
      "Loading checkpoint shards: 100%|██████████| 2/2 [00:01<00:00,  1.59it/s]\n"
     ]
    }
   ],
   "source": [
    "tokenizer = AutoTokenizer.from_pretrained(\"codellama/CodeLlama-7b-Python-hf\")\n",
    "model = AutoModelForCausalLM.from_pretrained(\n",
    "    \"codellama/CodeLlama-7b-Python-hf\", torch_dtype=t.float16\n",
    ")"
   ]
  },
  {
   "cell_type": "code",
   "execution_count": 3,
   "metadata": {},
   "outputs": [
    {
     "name": "stdout",
     "output_type": "stream",
     "text": [
      "Loaded pretrained model CodeLlama-7b-Python-hf into HookedTransformer\n"
     ]
    }
   ],
   "source": [
    "hooked_model = HookedTransformer.from_pretrained_no_processing(\n",
    "    model_name=\"CodeLlama-7b-Python-hf\",\n",
    "    hf_model=model,\n",
    "    tokenizer=tokenizer,\n",
    "    device=device,\n",
    "    dtype=\"float16\",\n",
    ")"
   ]
  },
  {
   "cell_type": "code",
   "execution_count": 9,
   "metadata": {},
   "outputs": [],
   "source": [
    "testcode = \"\"\"\n",
    "def fibo(n):\n",
    "    if n <= 1:\n",
    "        return n\n",
    "    else:\n",
    "        return fibo(n - 1) + fibo(n - 2)\n",
    "\"\"\""
   ]
  },
  {
   "cell_type": "code",
   "execution_count": 10,
   "metadata": {},
   "outputs": [],
   "source": [
    "try:\n",
    "    del (\n",
    "        logits,\n",
    "        cache,\n",
    "        toks,\n",
    "    )\n",
    "except:\n",
    "    pass\n",
    "toks = hooked_model.to_tokens(testcode)\n",
    "logits, cache = hooked_model.run_with_cache(toks)\n",
    "str_toks = hooked_model.to_str_tokens(toks)"
   ]
  },
  {
   "cell_type": "code",
   "execution_count": 51,
   "metadata": {},
   "outputs": [
    {
     "name": "stdout",
     "output_type": "stream",
     "text": [
      "Save at /var/www/html/duncan/atten-scope-test.html\n"
     ]
    }
   ],
   "source": [
    "attentions = cache[\"pattern\", 0][0].to(\"cpu\")\n",
    "values = cache[\"v\", 0][0].to(\"cpu\").transpose(0, 1)\n",
    "attentions = [\n",
    "    AttentionPostprocessing.apply_value_norm_to_attention(a, v).numpy()\n",
    "    for a, v in zip(attentions, values)\n",
    "]\n",
    "\n",
    "labels = [f\"head {i}\" for i in range(len(attentions))]\n",
    "html = TensorToHeatmap.generate_heatmap_html(attentions, labels, str_toks)\n",
    "with open(\"atten-scope-test.html\", \"w\") as f:\n",
    "    f.write(html)\n",
    "print(\"Save at atten-scope-test.html\")"
   ]
  }
 ],
 "metadata": {
  "kernelspec": {
   "display_name": "Synstiller",
   "language": "python",
   "name": "python3"
  },
  "language_info": {
   "codemirror_mode": {
    "name": "ipython",
    "version": 3
   },
   "file_extension": ".py",
   "mimetype": "text/x-python",
   "name": "python",
   "nbconvert_exporter": "python",
   "pygments_lexer": "ipython3",
   "version": "3.10.14"
  }
 },
 "nbformat": 4,
 "nbformat_minor": 2
}
